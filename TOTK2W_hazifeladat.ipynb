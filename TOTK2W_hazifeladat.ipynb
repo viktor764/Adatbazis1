{
    "metadata": {
        "kernelspec": {
            "name": "SQL",
            "display_name": "SQL",
            "language": "sql"
        },
        "language_info": {
            "name": "sql",
            "version": ""
        }
    },
    "nbformat_minor": 2,
    "nbformat": 4,
    "cells": [
        {
            "cell_type": "code",
            "source": [
                "SELECT \r\n",
                "    COUNT(*) AS 'Sorok száma',\r\n",
                "    SUM(CASE WHEN LEIRAS IS NULL THEN 1 ELSE 0 END) AS 'Üres leírások száma',\r\n",
                "    (SUM(CASE WHEN LEIRAS IS NULL THEN 1 ELSE 0 END) * 100.0 / COUNT(*)) AS 'Üres leírások százaléka'\r\n",
                "FROM Termek;"
            ],
            "metadata": {
                "azdata_cell_guid": "93d064ff-c00e-44c7-9350-2177d086293d",
                "language": "sql"
            },
            "outputs": [
                {
                    "output_type": "display_data",
                    "data": {
                        "text/html": "(1 row affected)"
                    },
                    "metadata": {}
                },
                {
                    "output_type": "display_data",
                    "data": {
                        "text/html": "Total execution time: 00:00:00.027"
                    },
                    "metadata": {}
                },
                {
                    "output_type": "execute_result",
                    "metadata": {},
                    "execution_count": 5,
                    "data": {
                        "application/vnd.dataresource+json": {
                            "schema": {
                                "fields": [
                                    {
                                        "name": "Sorok száma"
                                    },
                                    {
                                        "name": "Üres leírások száma"
                                    },
                                    {
                                        "name": "Üres leírások százaléka"
                                    }
                                ]
                            },
                            "data": [
                                {
                                    "Sorok száma": "551",
                                    "Üres leírások száma": "527",
                                    "Üres leírások százaléka": "95.644283121597"
                                }
                            ]
                        },
                        "text/html": [
                            "<table>",
                            "<tr><th>Sorok száma</th><th>Üres leírások száma</th><th>Üres leírások százaléka</th></tr>",
                            "<tr><td>551</td><td>527</td><td>95.644283121597</td></tr>",
                            "</table>"
                        ]
                    }
                }
            ],
            "execution_count": 5
        },
        {
            "cell_type": "code",
            "source": [
                "SELECT \r\n",
                "    MIN(LISTAAR) AS 'Legalacsonyabb listaár',\r\n",
                "    MAX(LISTAAR) AS 'Legmagasabb listaár',\r\n",
                "    AVG(LISTAAR) AS 'Átlag listaár'\r\n",
                "FROM Termek;"
            ],
            "metadata": {
                "azdata_cell_guid": "b68c29b1-6a6e-42a4-92df-48990e8efc8f",
                "language": "sql"
            },
            "outputs": [
                {
                    "output_type": "display_data",
                    "data": {
                        "text/html": "(1 row affected)"
                    },
                    "metadata": {}
                },
                {
                    "output_type": "display_data",
                    "data": {
                        "text/html": "Total execution time: 00:00:00.031"
                    },
                    "metadata": {}
                },
                {
                    "output_type": "execute_result",
                    "metadata": {},
                    "execution_count": 8,
                    "data": {
                        "application/vnd.dataresource+json": {
                            "schema": {
                                "fields": [
                                    {
                                        "name": "Legalacsonyabb listaár"
                                    },
                                    {
                                        "name": "Legmagasabb listaár"
                                    },
                                    {
                                        "name": "Átlag listaár"
                                    }
                                ]
                            },
                            "data": [
                                {
                                    "Legalacsonyabb listaár": "0",
                                    "Legmagasabb listaár": "46000",
                                    "Átlag listaár": "786,2813067150635"
                                }
                            ]
                        },
                        "text/html": [
                            "<table>",
                            "<tr><th>Legalacsonyabb listaár</th><th>Legmagasabb listaár</th><th>Átlag listaár</th></tr>",
                            "<tr><td>0</td><td>46000</td><td>786,2813067150635</td></tr>",
                            "</table>"
                        ]
                    }
                }
            ],
            "execution_count": 8
        },
        {
            "cell_type": "code",
            "source": [
                "--0FT listaár (csak érdeklet)\r\n",
                "SELECT *\r\n",
                "FROM Termek\r\n",
                "WHERE LISTAAR=0;"
            ],
            "metadata": {
                "azdata_cell_guid": "4afa66d7-d72f-474a-8e22-5c8e249028f5",
                "language": "sql"
            },
            "outputs": [
                {
                    "output_type": "display_data",
                    "data": {
                        "text/html": "(1 row affected)"
                    },
                    "metadata": {}
                },
                {
                    "output_type": "display_data",
                    "data": {
                        "text/html": "Total execution time: 00:00:00.029"
                    },
                    "metadata": {}
                },
                {
                    "output_type": "execute_result",
                    "metadata": {},
                    "execution_count": 7,
                    "data": {
                        "application/vnd.dataresource+json": {
                            "schema": {
                                "fields": [
                                    {
                                        "name": "TERMEKKOD"
                                    },
                                    {
                                        "name": "MEGNEVEZES"
                                    },
                                    {
                                        "name": "KAT_ID"
                                    },
                                    {
                                        "name": "LISTAAR"
                                    },
                                    {
                                        "name": "LEIRAS"
                                    },
                                    {
                                        "name": "RAKTAR_KOD"
                                    },
                                    {
                                        "name": "KESZLET"
                                    },
                                    {
                                        "name": "MEGYS"
                                    },
                                    {
                                        "name": "FELVITTE"
                                    },
                                    {
                                        "name": "FELVITEL"
                                    }
                                ]
                            },
                            "data": [
                                {
                                    "TERMEKKOD": "07030108T",
                                    "MEGNEVEZES": "Filctoll CD író",
                                    "KAT_ID": "41",
                                    "LISTAAR": "0",
                                    "LEIRAS": "NULL",
                                    "RAKTAR_KOD": "5",
                                    "KESZLET": "500",
                                    "MEGYS": "db",
                                    "FELVITTE": "Mari",
                                    "FELVITEL": "2016-07-21"
                                }
                            ]
                        },
                        "text/html": [
                            "<table>",
                            "<tr><th>TERMEKKOD</th><th>MEGNEVEZES</th><th>KAT_ID</th><th>LISTAAR</th><th>LEIRAS</th><th>RAKTAR_KOD</th><th>KESZLET</th><th>MEGYS</th><th>FELVITTE</th><th>FELVITEL</th></tr>",
                            "<tr><td>07030108T</td><td>Filctoll CD író</td><td>41</td><td>0</td><td>NULL</td><td>5</td><td>500</td><td>db</td><td>Mari</td><td>2016-07-21</td></tr>",
                            "</table>"
                        ]
                    }
                }
            ],
            "execution_count": 7
        },
        {
            "cell_type": "code",
            "source": [
                "SELECT \r\n",
                "    CASE \r\n",
                "        WHEN LISTAAR BETWEEN 0 AND 9 THEN '0-9'\r\n",
                "        WHEN LISTAAR BETWEEN 10 AND 19 THEN '10-19'\r\n",
                "        WHEN LISTAAR BETWEEN 20 AND 29 THEN '20-29'\r\n",
                "        WHEN LISTAAR BETWEEN 30 AND 39 THEN '30-39'\r\n",
                "        WHEN LISTAAR BETWEEN 40 AND 49 THEN '40-49'\r\n",
                "        WHEN LISTAAR BETWEEN 50 AND 59 THEN '50-59'\r\n",
                "        WHEN LISTAAR BETWEEN 60 AND 69 THEN '60-69'\r\n",
                "        WHEN LISTAAR BETWEEN 70 AND 79 THEN '70-79'\r\n",
                "        WHEN LISTAAR BETWEEN 80 AND 89 THEN '80-89'\r\n",
                "        WHEN LISTAAR BETWEEN 90 AND 99 THEN '90-99'\r\n",
                "        WHEN LISTAAR BETWEEN 100 AND 109 THEN '100-109'\r\n",
                "        WHEN LISTAAR BETWEEN 110 AND 119 THEN '110-119'\r\n",
                "        WHEN LISTAAR BETWEEN 120 AND 129 THEN '120-129'\r\n",
                "        WHEN LISTAAR BETWEEN 130 AND 139 THEN '130-139'\r\n",
                "        WHEN LISTAAR BETWEEN 140 AND 149 THEN '140-149'\r\n",
                "        ELSE '150+' END AS 'Árkategóriák',\r\n",
                "    COUNT(*) AS 'Kategóriánkénti darabszám'\r\n",
                "FROM Termek\r\n",
                "GROUP BY \r\n",
                "    CASE \r\n",
                "        WHEN LISTAAR BETWEEN 0 AND 9 THEN '0-9'\r\n",
                "        WHEN LISTAAR BETWEEN 10 AND 19 THEN '10-19'\r\n",
                "        WHEN LISTAAR BETWEEN 20 AND 29 THEN '20-29'\r\n",
                "        WHEN LISTAAR BETWEEN 30 AND 39 THEN '30-39'\r\n",
                "        WHEN LISTAAR BETWEEN 40 AND 49 THEN '40-49'\r\n",
                "        WHEN LISTAAR BETWEEN 50 AND 59 THEN '50-59'\r\n",
                "        WHEN LISTAAR BETWEEN 60 AND 69 THEN '60-69'\r\n",
                "        WHEN LISTAAR BETWEEN 70 AND 79 THEN '70-79'\r\n",
                "        WHEN LISTAAR BETWEEN 80 AND 89 THEN '80-89'\r\n",
                "        WHEN LISTAAR BETWEEN 90 AND 99 THEN '90-99'\r\n",
                "        WHEN LISTAAR BETWEEN 100 AND 109 THEN '100-109'\r\n",
                "        WHEN LISTAAR BETWEEN 110 AND 119 THEN '110-119'\r\n",
                "        WHEN LISTAAR BETWEEN 120 AND 129 THEN '120-129'\r\n",
                "        WHEN LISTAAR BETWEEN 130 AND 139 THEN '130-139'\r\n",
                "        WHEN LISTAAR BETWEEN 140 AND 149 THEN '140-149'\r\n",
                "        ELSE '150+' \r\n",
                "    END\r\n",
                "ORDER BY 'Kategóriánkénti darabszám' desc;"
            ],
            "metadata": {
                "azdata_cell_guid": "cb86f5f7-f6d9-4a52-857c-fa7cd1e39ba7",
                "language": "sql"
            },
            "outputs": [
                {
                    "output_type": "display_data",
                    "data": {
                        "text/html": "(16 rows affected)"
                    },
                    "metadata": {}
                },
                {
                    "output_type": "display_data",
                    "data": {
                        "text/html": "Total execution time: 00:00:00.042"
                    },
                    "metadata": {}
                },
                {
                    "output_type": "execute_result",
                    "metadata": {},
                    "execution_count": 17,
                    "data": {
                        "application/vnd.dataresource+json": {
                            "schema": {
                                "fields": [
                                    {
                                        "name": "Árkategóriák"
                                    },
                                    {
                                        "name": "Kategóriánkénti darabszám"
                                    }
                                ]
                            },
                            "data": [
                                {
                                    "Árkategóriák": "150+",
                                    "Kategóriánkénti darabszám": "209"
                                },
                                {
                                    "Árkategóriák": "30-39",
                                    "Kategóriánkénti darabszám": "46"
                                },
                                {
                                    "Árkategóriák": "40-49",
                                    "Kategóriánkénti darabszám": "41"
                                },
                                {
                                    "Árkategóriák": "10-19",
                                    "Kategóriánkénti darabszám": "38"
                                },
                                {
                                    "Árkategóriák": "50-59",
                                    "Kategóriánkénti darabszám": "30"
                                },
                                {
                                    "Árkategóriák": "80-89",
                                    "Kategóriánkénti darabszám": "27"
                                },
                                {
                                    "Árkategóriák": "20-29",
                                    "Kategóriánkénti darabszám": "26"
                                },
                                {
                                    "Árkategóriák": "100-109",
                                    "Kategóriánkénti darabszám": "20"
                                },
                                {
                                    "Árkategóriák": "70-79",
                                    "Kategóriánkénti darabszám": "19"
                                },
                                {
                                    "Árkategóriák": "0-9",
                                    "Kategóriánkénti darabszám": "18"
                                },
                                {
                                    "Árkategóriák": "140-149",
                                    "Kategóriánkénti darabszám": "17"
                                },
                                {
                                    "Árkategóriák": "60-69",
                                    "Kategóriánkénti darabszám": "16"
                                },
                                {
                                    "Árkategóriák": "110-119",
                                    "Kategóriánkénti darabszám": "13"
                                },
                                {
                                    "Árkategóriák": "90-99",
                                    "Kategóriánkénti darabszám": "11"
                                },
                                {
                                    "Árkategóriák": "120-129",
                                    "Kategóriánkénti darabszám": "10"
                                },
                                {
                                    "Árkategóriák": "130-139",
                                    "Kategóriánkénti darabszám": "10"
                                }
                            ]
                        },
                        "text/html": [
                            "<table>",
                            "<tr><th>Árkategóriák</th><th>Kategóriánkénti darabszám</th></tr>",
                            "<tr><td>150+</td><td>209</td></tr>",
                            "<tr><td>30-39</td><td>46</td></tr>",
                            "<tr><td>40-49</td><td>41</td></tr>",
                            "<tr><td>10-19</td><td>38</td></tr>",
                            "<tr><td>50-59</td><td>30</td></tr>",
                            "<tr><td>80-89</td><td>27</td></tr>",
                            "<tr><td>20-29</td><td>26</td></tr>",
                            "<tr><td>100-109</td><td>20</td></tr>",
                            "<tr><td>70-79</td><td>19</td></tr>",
                            "<tr><td>0-9</td><td>18</td></tr>",
                            "<tr><td>140-149</td><td>17</td></tr>",
                            "<tr><td>60-69</td><td>16</td></tr>",
                            "<tr><td>110-119</td><td>13</td></tr>",
                            "<tr><td>90-99</td><td>11</td></tr>",
                            "<tr><td>120-129</td><td>10</td></tr>",
                            "<tr><td>130-139</td><td>10</td></tr>",
                            "</table>"
                        ]
                    }
                }
            ],
            "execution_count": 17
        }
    ]
}